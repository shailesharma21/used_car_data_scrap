{
 "cells": [
  {
   "cell_type": "code",
   "execution_count": 8,
   "id": "32f6936d",
   "metadata": {},
   "outputs": [],
   "source": [
    "from selenium import webdriver\n",
    "from selenium.webdriver.chrome.options import Options\n",
    "from selenium.webdriver.chrome.service import Service\n",
    "import time\n",
    "import random\n",
    "import re\n",
    "from selenium.webdriver.common.keys import Keys\n",
    "from selenium.webdriver.common.action_chains import ActionChains\n",
    "from selenium.webdriver.common.by import By\n",
    "import pandas as pd"
   ]
  },
  {
   "cell_type": "code",
   "execution_count": 9,
   "id": "aaae97a6",
   "metadata": {},
   "outputs": [],
   "source": [
    "# webdriver initializations\n",
    "def get_chrome_driver():\n",
    "    chromeOptions = webdriver.ChromeOptions()\n",
    "    chromeOptions.add_argument(\"start-maximized\")\n",
    "    #chromeOptions.add_argument(r\"--user-data-dir=C:\\path\\to\\chrome\\user\\data\")\n",
    "    #chromeOptions.add_argument(r'--profile-directory=Guest Profile')\n",
    "    chromeOptions.add_argument(\"--incognito\")\n",
    "    chromeOptions.add_argument(\"--disable-extensions\")\n",
    "    chromeOptions.headless = True\n",
    "    chromeOptions.add_argument('--disable-gpu')\n",
    "    service = Service(r'C:\\Drivers\\chromedriver_win32\\chromedriver')\n",
    "    driver = webdriver.Chrome(service=service, options=chromeOptions)\n",
    "    return driver"
   ]
  },
  {
   "cell_type": "code",
   "execution_count": 10,
   "id": "daf709d6",
   "metadata": {},
   "outputs": [],
   "source": [
    "try:\n",
    "    driver = get_chrome_driver()\n",
    "    url = \"https://www.carroya.com/detalle/usado/\"\n",
    "    driver.get(url)\n",
    "    try:\n",
    "        driver.find_element(By.ID, 'consent_prompt_submit').click()\n",
    "    except:\n",
    "        pass\n",
    "except:\n",
    "    print(\"session not created\")"
   ]
  },
  {
   "cell_type": "code",
   "execution_count": null,
   "id": "22228267",
   "metadata": {},
   "outputs": [],
   "source": [
    "#total_pages = int(driver.find_elements_by_xpath(\"//*[@class='ant-pagination mini hidePrevArrow']\")[-1].text.split('\\n')[-1])"
   ]
  },
  {
   "cell_type": "code",
   "execution_count": 11,
   "id": "9374b81a",
   "metadata": {},
   "outputs": [],
   "source": [
    "def get_all_elements():\n",
    "     return driver.find_elements(By.XPATH,\"//a[@href]\")\n",
    "def get_url(var):\n",
    "    return var.get_attribute('href')\n",
    "def next_page():\n",
    "        pg_name = driver.find_element(By.ID,\"ProgrammaticProductsContainter\")\n",
    "        ActionChains(driver).move_to_element(pg_name).perform()     \n",
    "        return driver.find_elements(By.XPATH,\"//*[@class='ant-pagination-item-link']\")[-1].click()"
   ]
  },
  {
   "cell_type": "code",
   "execution_count": 12,
   "id": "e494582a",
   "metadata": {},
   "outputs": [],
   "source": [
    "urls = []\n",
    "for i in range(0,200):\n",
    "    time.sleep(random.randint(3,5))\n",
    "    try:\n",
    "        elements=get_all_elements()\n",
    "        links = []\n",
    "        for elem in elements:\n",
    "            links.append(get_url(elem))\n",
    "        time.sleep(random.randint(1,10))\n",
    "    except:\n",
    "        time.sleep(5)\n",
    "        elements=get_all_elements()\n",
    "        links = []\n",
    "        for elem in elements:\n",
    "            links.append(get_url(elem))\n",
    "        time.sleep(random.randint(1,10))\n",
    "    next_page()\n",
    "    r = re.compile(\"https://www.carroya.com/detalle/usado/*.\")\n",
    "    nw = set(filter(r.match,links))\n",
    "    nw = list(nw)\n",
    "    urls.extend(nw)\n",
    "driver.close()"
   ]
  },
  {
   "cell_type": "code",
   "execution_count": 13,
   "id": "ada4ac86",
   "metadata": {},
   "outputs": [],
   "source": [
    "car_urls_df = pd.DataFrame(urls,columns=[\"URL\"])"
   ]
  },
  {
   "cell_type": "code",
   "execution_count": 14,
   "id": "3c9e2d97",
   "metadata": {},
   "outputs": [],
   "source": [
    "car_urls_df.to_csv('car_urls.csv')"
   ]
  },
  {
   "cell_type": "code",
   "execution_count": null,
   "id": "d988513c",
   "metadata": {},
   "outputs": [],
   "source": []
  }
 ],
 "metadata": {
  "kernelspec": {
   "display_name": "Python 3 (ipykernel)",
   "language": "python",
   "name": "python3"
  },
  "language_info": {
   "codemirror_mode": {
    "name": "ipython",
    "version": 3
   },
   "file_extension": ".py",
   "mimetype": "text/x-python",
   "name": "python",
   "nbconvert_exporter": "python",
   "pygments_lexer": "ipython3",
   "version": "3.9.7"
  }
 },
 "nbformat": 4,
 "nbformat_minor": 5
}
